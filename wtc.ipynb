{
  "nbformat": 4,
  "nbformat_minor": 0,
  "metadata": {
    "colab": {
      "name": "wtc.ipynb",
      "provenance": [],
      "authorship_tag": "ABX9TyM1Wi/KUdrNK79H4C9A89Qq",
      "include_colab_link": true
    },
    "kernelspec": {
      "name": "python3",
      "display_name": "Python 3"
    },
    "language_info": {
      "name": "python"
    }
  },
  "cells": [
    {
      "cell_type": "markdown",
      "metadata": {
        "id": "view-in-github",
        "colab_type": "text"
      },
      "source": [
        "<a href=\"https://colab.research.google.com/github/Harada-Masahiro/test2/blob/main/wtc.ipynb\" target=\"_parent\"><img src=\"https://colab.research.google.com/assets/colab-badge.svg\" alt=\"Open In Colab\"/></a>"
      ]
    },
    {
      "cell_type": "code",
      "execution_count": null,
      "metadata": {
        "id": "ongC4dbk5buW"
      },
      "outputs": [],
      "source": [
        "!git clone  https://github.com/clovaai/WCT2.git\n"
      ]
    },
    {
      "cell_type": "code",
      "source": [
        "%cd  WCT2"
      ],
      "metadata": {
        "id": "5luZQU0M5n5w"
      },
      "execution_count": null,
      "outputs": []
    },
    {
      "cell_type": "code",
      "source": [
        "!pip install -r requirements.txt"
      ],
      "metadata": {
        "id": "_L7ThZTX5y6X"
      },
      "execution_count": null,
      "outputs": []
    },
    {
      "cell_type": "code",
      "source": [
        "import torch"
      ],
      "metadata": {
        "id": "H89O37ub66St"
      },
      "execution_count": null,
      "outputs": []
    },
    {
      "cell_type": "code",
      "source": [
        "%cd  ../\n",
        "!git clone https://github.com/clovaai/WCT2.git"
      ],
      "metadata": {
        "id": "kro1IOwM_1Dj"
      },
      "execution_count": null,
      "outputs": []
    },
    {
      "cell_type": "code",
      "source": [
        ""
      ],
      "metadata": {
        "id": "kJdMKkA5_1Vq"
      },
      "execution_count": null,
      "outputs": []
    },
    {
      "cell_type": "code",
      "source": [
        "python transfer.py --option_unpool cat5 -a --content ./examples/content --style ./examples/style --content_segment ./examples/content_segment --style_segment ./examples/style_segment/ --output ./outputs/ --verbose --image_size 512 \n",
        "\n",
        "\n"
      ],
      "metadata": {
        "id": "GMyxowVc7Chy"
      },
      "execution_count": null,
      "outputs": []
    }
  ]
}