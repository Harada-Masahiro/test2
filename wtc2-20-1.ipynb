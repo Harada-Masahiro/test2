{
  "nbformat": 4,
  "nbformat_minor": 0,
  "metadata": {
    "colab": {
      "name": "wtc.ipynb",
      "provenance": [],
      "authorship_tag": "ABX9TyP3sEJI3xDbijOGJpFeyHLq",
      "include_colab_link": true
    },
    "kernelspec": {
      "name": "python3",
      "display_name": "Python 3"
    },
    "language_info": {
      "name": "python"
    }
  },
  "cells": [
    {
      "cell_type": "markdown",
      "metadata": {
        "id": "view-in-github",
        "colab_type": "text"
      },
      "source": [
        "<a href=\"https://colab.research.google.com/github/Harada-Masahiro/test2/blob/main/wtc2-20-1.ipynb\" target=\"_parent\"><img src=\"https://colab.research.google.com/assets/colab-badge.svg\" alt=\"Open In Colab\"/></a>"
      ]
    },
    {
      "cell_type": "code",
      "execution_count": 1,
      "metadata": {
        "id": "ongC4dbk5buW",
        "outputId": "d753f233-5bcd-4394-81f7-d3548506b37b",
        "colab": {
          "base_uri": "https://localhost:8080/"
        }
      },
      "outputs": [
        {
          "output_type": "stream",
          "name": "stdout",
          "text": [
            "Cloning into 'WCT2'...\n",
            "remote: Enumerating objects: 146, done.\u001b[K\n",
            "remote: Counting objects: 100% (10/10), done.\u001b[K\n",
            "remote: Compressing objects: 100% (10/10), done.\u001b[K\n",
            "remote: Total 146 (delta 3), reused 1 (delta 0), pack-reused 136\u001b[K\n",
            "Receiving objects: 100% (146/146), 112.76 MiB | 32.09 MiB/s, done.\n",
            "Resolving deltas: 100% (56/56), done.\n"
          ]
        }
      ],
      "source": [
        "!git clone  https://github.com/clovaai/WCT2.git\n"
      ]
    },
    {
      "cell_type": "code",
      "source": [
        "%cd  WCT2"
      ],
      "metadata": {
        "id": "5luZQU0M5n5w",
        "outputId": "2db12bf9-44d0-4a57-932c-c2ac90bdd8a0",
        "colab": {
          "base_uri": "https://localhost:8080/"
        }
      },
      "execution_count": 2,
      "outputs": [
        {
          "output_type": "stream",
          "name": "stdout",
          "text": [
            "/content/WCT2\n"
          ]
        }
      ]
    },
    {
      "cell_type": "code",
      "source": [
        "!pip install -r requirements.txt"
      ],
      "metadata": {
        "id": "_L7ThZTX5y6X",
        "outputId": "9598f20a-d0d1-485e-8c68-0643c25b07e4",
        "colab": {
          "base_uri": "https://localhost:8080/"
        }
      },
      "execution_count": 3,
      "outputs": [
        {
          "output_type": "stream",
          "name": "stdout",
          "text": [
            "\u001b[31mERROR: Could not find a version that satisfies the requirement torch==0.4.1 (from versions: 1.0.0, 1.0.1, 1.0.1.post2, 1.1.0, 1.2.0, 1.3.0, 1.3.1, 1.4.0, 1.5.0, 1.5.1, 1.6.0, 1.7.0, 1.7.1, 1.8.0, 1.8.1, 1.9.0, 1.9.1, 1.10.0, 1.10.1, 1.10.2)\u001b[0m\n",
            "\u001b[31mERROR: No matching distribution found for torch==0.4.1\u001b[0m\n"
          ]
        }
      ]
    },
    {
      "cell_type": "code",
      "source": [
        "import torch"
      ],
      "metadata": {
        "id": "H89O37ub66St"
      },
      "execution_count": 4,
      "outputs": []
    },
    {
      "cell_type": "code",
      "source": [
        "%cd  ../\n",
        "!git clone https://github.com/clovaai/WCT2.git"
      ],
      "metadata": {
        "id": "kro1IOwM_1Dj",
        "outputId": "5b237146-f0e3-420d-e27f-66419a0b8904",
        "colab": {
          "base_uri": "https://localhost:8080/"
        }
      },
      "execution_count": 5,
      "outputs": [
        {
          "output_type": "stream",
          "name": "stdout",
          "text": [
            "/content\n",
            "fatal: destination path 'WCT2' already exists and is not an empty directory.\n"
          ]
        }
      ]
    },
    {
      "cell_type": "code",
      "source": [
        ""
      ],
      "metadata": {
        "id": "kJdMKkA5_1Vq"
      },
      "execution_count": 5,
      "outputs": []
    },
    {
      "cell_type": "code",
      "source": [
        "!python /content/WCT2/transfer.py --option_unpool cat5 -a --content /content/WCT2/examples/content/ --style ./examples/style --content_segment ./examples/content_segment --style_segment ./examples/style_segment/ --output ./outputs/ --verbose --image_size 512 \n",
        "\n",
        "\n"
      ],
      "metadata": {
        "id": "GMyxowVc7Chy",
        "outputId": "537f5777-0fee-4579-99f4-98c0cbaf53a9",
        "colab": {
          "base_uri": "https://localhost:8080/"
        }
      },
      "execution_count": 10,
      "outputs": [
        {
          "output_type": "stream",
          "name": "stdout",
          "text": [
            "Namespace(alpha=1, content='/content/WCT2/examples/content/', content_segment='./examples/content_segment', cpu=False, image_size=512, option_unpool='cat5', output='./outputs/', style='./examples/style', style_segment='./examples/style_segment/', transfer_all=True, transfer_at_decoder=False, transfer_at_encoder=False, transfer_at_skip=False, verbose=True)\n",
            "Traceback (most recent call last):\n",
            "  File \"/content/WCT2/transfer.py\", line 216, in <module>\n",
            "    run_bulk(config)\n",
            "  File \"/content/WCT2/transfer.py\", line 147, in run_bulk\n",
            "    fnames = set(os.listdir(config.content)) & set(os.listdir(config.style))\n",
            "FileNotFoundError: [Errno 2] No such file or directory: './examples/style'\n"
          ]
        }
      ]
    }
  ]
}